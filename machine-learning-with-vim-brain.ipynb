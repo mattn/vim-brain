{
 "cells": [
  {
   "cell_type": "markdown",
   "metadata": {},
   "source": [
    "# Machine Learning with vim-brain"
   ]
  },
  {
   "cell_type": "markdown",
   "metadata": {},
   "source": [
    "A feedforward neural network is an artificial neural network where connections between the units do not form a cycle. This is different from recurrent neural networks.\n",
    "\n",
    "The feedforward neural network was the first and simplest type of artificial neural network devised. In this network, the information moves in only one direction, forward, from the input nodes, through the hidden nodes (if any) and to the output nodes. There are no cycles or loops in the network."
   ]
  },
  {
   "cell_type": "markdown",
   "metadata": {},
   "source": [
    "## Initialize Feed-Forward Neural Network"
   ]
  },
  {
   "cell_type": "markdown",
   "metadata": {},
   "source": [
    "On my Windows PC, plugins are managed on directory `~/vimfiles/plugged`. Add runtimepath to vim-brain plugin"
   ]
  },
  {
   "cell_type": "code",
   "execution_count": 1,
   "metadata": {},
   "outputs": [],
   "source": [
    "if has('win32')\n",
    "  set rtp+=~/vimfiles/plugged/vim-brain\n",
    "else\n",
    "  set rtp+=~/vim/plugged/vim-brain\n",
    "endif"
   ]
  },
  {
   "cell_type": "markdown",
   "metadata": {},
   "source": [
    "Set the random seed to 0"
   ]
  },
  {
   "cell_type": "code",
   "execution_count": 2,
   "metadata": {},
   "outputs": [],
   "source": [
    "call brain#srand(0)"
   ]
  },
  {
   "cell_type": "markdown",
   "metadata": {},
   "source": [
    "Create the XOR representation patter to train the network"
   ]
  },
  {
   "cell_type": "code",
   "execution_count": 3,
   "metadata": {},
   "outputs": [],
   "source": [
    "let patterns = [\n",
    "\\ [[0.0, 0.0], [0.0]],\n",
    "\\ [[0.0, 1.0], [1.0]],\n",
    "\\ [[1.0, 0.0], [1.0]],\n",
    "\\ [[1.0, 1.0], [0.0]],\n",
    "\\]"
   ]
  },
  {
   "cell_type": "markdown",
   "metadata": {},
   "source": [
    "Instantiate the Feed Forward"
   ]
  },
  {
   "cell_type": "code",
   "execution_count": 4,
   "metadata": {},
   "outputs": [],
   "source": [
    "let ff = brain#new_feed()"
   ]
  },
  {
   "cell_type": "markdown",
   "metadata": {},
   "source": [
    "Initialize the Neural Network. The networks structure will contain:\n",
    "* 2 inputs\n",
    "* 2 hidden nodes\n",
    "* 1 output"
   ]
  },
  {
   "cell_type": "code",
   "execution_count": 5,
   "metadata": {},
   "outputs": [],
   "source": [
    "call ff.Init(2, 2, 1)"
   ]
  },
  {
   "cell_type": "markdown",
   "metadata": {},
   "source": [
    "Train the network using the XOR patterns. The training will run for 1000 epochs. The learning rate is set to 0.6 and the momentum factor to 0.4. Use true in the last parameter to receive reports about the learning error"
   ]
  },
  {
   "cell_type": "code",
   "execution_count": 6,
   "metadata": {},
   "outputs": [],
   "source": [
    "call ff.Train(patterns, 1000, 0.6, 0.4, v:false)"
   ]
  },
  {
   "cell_type": "markdown",
   "metadata": {},
   "source": [
    "Then run the tests with input patterns."
   ]
  },
  {
   "cell_type": "code",
   "execution_count": 7,
   "metadata": {},
   "outputs": [
    {
     "name": "stdout",
     "output_type": "stream",
     "text": [
      "[0.0, 0.0] -> [0.045977]  :  [0.0]\n",
      "[0.0, 1.0] -> [0.9461]  :  [1.0]\n",
      "[1.0, 0.0] -> [0.944088]  :  [1.0]\n",
      "[1.0, 1.0] -> [0.073895]  :  [0.0]"
     ]
    }
   ],
   "source": [
    "call ff.Test(patterns)"
   ]
  },
  {
   "cell_type": "markdown",
   "metadata": {},
   "source": [
    "Where the first values are the inputs, the values after the arrow -> are the output values from the network and the values after : are the expected outputs."
   ]
  },
  {
   "cell_type": "code",
   "execution_count": null,
   "metadata": {},
   "outputs": [],
   "source": []
  }
 ],
 "metadata": {
  "kernelspec": {
   "display_name": "Vim",
   "language": "",
   "name": "vim_kernel"
  },
  "language_info": {
   "mimetype": "text/plain",
   "name": "Vim"
  }
 },
 "nbformat": 4,
 "nbformat_minor": 2
}
